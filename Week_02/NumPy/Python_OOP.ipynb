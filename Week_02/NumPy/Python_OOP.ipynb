{
 "cells": [
  {
   "cell_type": "markdown",
   "id": "392a23e8-d364-42d3-a13c-908195aad046",
   "metadata": {},
   "source": [
    "# Python Classes/Objects"
   ]
  },
  {
   "cell_type": "raw",
   "id": "a4efa75b-5b3d-4057-81ba-d729c2fe3fad",
   "metadata": {},
   "source": [
    "class is a blueprint for creating an object"
   ]
  },
  {
   "cell_type": "raw",
   "id": "8f982606-bdf0-4f80-b5de-088e8a133a0e",
   "metadata": {},
   "source": [
    "**Class**\t**Objects**\n",
    "Fruit\t      Apple, Banana, Mango\n",
    "Car\t          Volvo, Audi, Toyota"
   ]
  },
  {
   "cell_type": "markdown",
   "id": "563b2dd4-cb8b-4ad1-850e-3a3e4d06004b",
   "metadata": {},
   "source": [
    "#### Create a class"
   ]
  },
  {
   "cell_type": "markdown",
   "id": "c9145b05-0284-4044-91ed-40325a93ef67",
   "metadata": {},
   "source": [
    "Q.Create a class named MyClass, with a property named x:\n"
   ]
  },
  {
   "cell_type": "code",
   "execution_count": 8,
   "id": "7a012829-192f-49d2-b623-466ed9a1dc1a",
   "metadata": {},
   "outputs": [],
   "source": [
    "class MyClass: #1st leter of class name should always be capital by convention\n",
    "    x=5 # is an instance"
   ]
  },
  {
   "cell_type": "code",
   "execution_count": 9,
   "id": "c4e4b0ec-20e9-4b0a-9b79-7067841a8a46",
   "metadata": {},
   "outputs": [
    {
     "name": "stdout",
     "output_type": "stream",
     "text": [
      "<class '__main__.Myclass'>\n"
     ]
    }
   ],
   "source": [
    "print(Myclass)"
   ]
  },
  {
   "cell_type": "markdown",
   "id": "e151a30a-45c3-46df-aabd-8646b39e11a0",
   "metadata": {},
   "source": [
    "#### Creating Object (instance / instance of class)\n",
    "Now we can use the class named MyClass to create objects:"
   ]
  },
  {
   "cell_type": "markdown",
   "id": "dbbb74a2-b933-4b75-b3dc-3ea519012652",
   "metadata": {},
   "source": [
    "Q.Create an object named p1, and print the value of x:"
   ]
  },
  {
   "cell_type": "code",
   "execution_count": 12,
   "id": "c235539d-04e6-4f2e-903e-684a348627be",
   "metadata": {},
   "outputs": [],
   "source": [
    "p1 = MyClass()\n"
   ]
  },
  {
   "cell_type": "code",
   "execution_count": 13,
   "id": "f13433d1-c780-4afa-b061-b13e0dcbe92b",
   "metadata": {},
   "outputs": [
    {
     "name": "stdout",
     "output_type": "stream",
     "text": [
      "<__main__.MyClass object at 0x00000146A7F2FCE0>\n"
     ]
    }
   ],
   "source": [
    "print(p1)\n"
   ]
  },
  {
   "cell_type": "code",
   "execution_count": 14,
   "id": "f159bff1-de3c-448e-a688-6fba4fec2512",
   "metadata": {},
   "outputs": [
    {
     "name": "stdout",
     "output_type": "stream",
     "text": [
      "5\n"
     ]
    }
   ],
   "source": [
    "print(p1.x)"
   ]
  },
  {
   "cell_type": "code",
   "execution_count": 17,
   "id": "759e41c7-c234-4303-850b-235b6cf6c170",
   "metadata": {},
   "outputs": [
    {
     "name": "stdout",
     "output_type": "stream",
     "text": [
      "blue\n",
      "mercedes\n"
     ]
    }
   ],
   "source": [
    "class car:\n",
    "    color = 'blue'\n",
    "    brand = 'mercedes'\n",
    "\n",
    "car1 = car()\n",
    "print(car.color)\n",
    "print(car.brand)"
   ]
  },
  {
   "cell_type": "code",
   "execution_count": null,
   "id": "db6a7298-ac95-40fb-b427-8f3c5983d496",
   "metadata": {},
   "outputs": [],
   "source": []
  }
 ],
 "metadata": {
  "kernelspec": {
   "display_name": "Python 3 (ipykernel)",
   "language": "python",
   "name": "python3"
  },
  "language_info": {
   "codemirror_mode": {
    "name": "ipython",
    "version": 3
   },
   "file_extension": ".py",
   "mimetype": "text/x-python",
   "name": "python",
   "nbconvert_exporter": "python",
   "pygments_lexer": "ipython3",
   "version": "3.12.7"
  }
 },
 "nbformat": 4,
 "nbformat_minor": 5
}
