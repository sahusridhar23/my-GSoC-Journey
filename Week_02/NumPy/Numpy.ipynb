{
 "cells": [
  {
   "cell_type": "markdown",
   "id": "86050820-618e-4671-8d27-1f19ff12ab80",
   "metadata": {},
   "source": [
    "# INTRO AND GETTING STARTED WITH NUMPY"
   ]
  },
  {
   "cell_type": "code",
   "execution_count": 1,
   "id": "7dc8b82d-53d7-4e02-8980-8bea2e32de51",
   "metadata": {},
   "outputs": [],
   "source": [
    "import numpy as np"
   ]
  },
  {
   "cell_type": "code",
   "execution_count": 2,
   "id": "4a65dfac-52ed-4fe4-b97a-a52ecb2750b9",
   "metadata": {},
   "outputs": [
    {
     "name": "stdout",
     "output_type": "stream",
     "text": [
      "[1 2 3 4 5]\n"
     ]
    }
   ],
   "source": [
    "arr = np.array([1,2,3,4,5])\n",
    "print(arr)"
   ]
  },
  {
   "cell_type": "code",
   "execution_count": 3,
   "id": "dcb857cb-dc4c-4518-8839-efac9cb07bad",
   "metadata": {},
   "outputs": [
    {
     "name": "stdout",
     "output_type": "stream",
     "text": [
      "<class 'numpy.ndarray'>\n"
     ]
    }
   ],
   "source": [
    "print(type(arr))"
   ]
  },
  {
   "cell_type": "code",
   "execution_count": 4,
   "id": "826f5d31-f211-4055-81a9-9c0c86c1a2ab",
   "metadata": {},
   "outputs": [
    {
     "name": "stdout",
     "output_type": "stream",
     "text": [
      "<class 'list'>\n",
      "[1, 2, 3, 4, 5, 6]\n"
     ]
    }
   ],
   "source": [
    "mylist = [1,2,3,4,5,6]\n",
    "print(type(mylist))\n",
    "print(mylist)"
   ]
  },
  {
   "cell_type": "markdown",
   "id": "7a50c347-1ffa-4bb6-aec4-bca608285a07",
   "metadata": {},
   "source": [
    "import numpy as np\n",
    "arr2 = np.array([5,6,7,8,9])\n",
    "print(arr2)"
   ]
  },
  {
   "cell_type": "code",
   "execution_count": 5,
   "id": "85c51a5a-7ca4-4186-848b-dd6b2e92d037",
   "metadata": {},
   "outputs": [
    {
     "name": "stdout",
     "output_type": "stream",
     "text": [
      "2.3.0\n"
     ]
    }
   ],
   "source": [
    "print(np.__version__) # here __version__ is an attribute of the numpy module"
   ]
  },
  {
   "cell_type": "markdown",
   "id": "ce0220ff-eb34-4697-840f-1f736b6dfbaf",
   "metadata": {},
   "source": [
    "# NumPy creating arrays"
   ]
  },
  {
   "cell_type": "markdown",
   "id": "1e6954ad-1ccd-48b1-b175-fa47b7b249ba",
   "metadata": {},
   "source": [
    "#### To create an ndarray, we can pass a list, tuple or any array-like object into the array() method, and it will be converted into an ndarray"
   ]
  },
  {
   "cell_type": "code",
   "execution_count": 6,
   "id": "aaaa3cd0-8aad-43b0-b42d-09784787b238",
   "metadata": {},
   "outputs": [
    {
     "name": "stdout",
     "output_type": "stream",
     "text": [
      "[1 2 3 4 5]\n",
      "<class 'numpy.ndarray'>\n"
     ]
    }
   ],
   "source": [
    "#creating array using tuple\n",
    "tarr= np.array((1,2,3,4,5))\n",
    "print(tarr)\n",
    "print(type(tarr))"
   ]
  },
  {
   "cell_type": "code",
   "execution_count": 7,
   "id": "d0889ea0-9946-401b-89b7-e88bdaf532bf",
   "metadata": {},
   "outputs": [
    {
     "name": "stdout",
     "output_type": "stream",
     "text": [
      "[1 2 3 4 5]\n",
      "<class 'numpy.ndarray'>\n"
     ]
    }
   ],
   "source": [
    "#creating array using Lsit\n",
    "larr = np.array([1,2,3,4,5])\n",
    "print(larr)\n",
    "print(type(larr))"
   ]
  },
  {
   "cell_type": "markdown",
   "id": "02ba50ac-7586-4a22-ae37-b694d442d1b5",
   "metadata": {},
   "source": [
    "Dictionary is not a array-like object"
   ]
  },
  {
   "cell_type": "markdown",
   "id": "00b77dab-e74e-49a3-a7f4-37390121265d",
   "metadata": {},
   "source": [
    "## Nested Arrays"
   ]
  },
  {
   "cell_type": "markdown",
   "id": "e63d820e-64a1-45d8-b75d-7b8509c94b3a",
   "metadata": {},
   "source": [
    "#### 0-d array / scalar"
   ]
  },
  {
   "cell_type": "code",
   "execution_count": 8,
   "id": "a34390e0-e25c-448a-b2f0-db8f1783f98a",
   "metadata": {},
   "outputs": [
    {
     "name": "stdout",
     "output_type": "stream",
     "text": [
      "69\n",
      "<class 'numpy.ndarray'>\n"
     ]
    }
   ],
   "source": [
    "a1 = np.array(69)\n",
    "print(a1)\n",
    "print(type(a1))"
   ]
  },
  {
   "cell_type": "markdown",
   "id": "9fafaf78-2adf-44d4-945a-4d0254d178dc",
   "metadata": {},
   "source": [
    "#### 1-d array / vector"
   ]
  },
  {
   "cell_type": "code",
   "execution_count": 9,
   "id": "3f77cf4e-78df-4911-8d40-a3c8c5e79410",
   "metadata": {},
   "outputs": [
    {
     "name": "stdout",
     "output_type": "stream",
     "text": [
      "[70 71 72 73 74]\n"
     ]
    }
   ],
   "source": [
    "a2 = np.array([70,71,72,73,74])\n",
    "print(a2)"
   ]
  },
  {
   "cell_type": "markdown",
   "id": "cadacccb-b2d0-437a-89ca-f492ef7a837e",
   "metadata": {},
   "source": [
    "#### 2d array : array that has 1d array as its elements"
   ]
  },
  {
   "cell_type": "code",
   "execution_count": 10,
   "id": "be2c5f7b-656c-4ba3-8d5c-b5d2cfb50769",
   "metadata": {},
   "outputs": [
    {
     "name": "stdout",
     "output_type": "stream",
     "text": [
      "[[70 71 72 73 74]\n",
      " [ 2  4  6  8 20]]\n"
     ]
    }
   ],
   "source": [
    "a2 = np.array([[70,71,72,73,74],[2,4,6,8,20]])\n",
    "print(a2)"
   ]
  },
  {
   "cell_type": "code",
   "execution_count": 11,
   "id": "b5864346-4aab-4dbc-8b66-3d34379666d0",
   "metadata": {},
   "outputs": [
    {
     "name": "stdout",
     "output_type": "stream",
     "text": [
      "<class 'numpy.ndarray'>\n"
     ]
    }
   ],
   "source": [
    "print(type(a2))"
   ]
  },
  {
   "cell_type": "markdown",
   "id": "0dd6dff5-c5e6-406a-8d58-f0eaab40e5f2",
   "metadata": {},
   "source": [
    "#### 3-D arrays : An array that has 2-D arrays (matrices) as its elements is called 3-D array."
   ]
  },
  {
   "cell_type": "code",
   "execution_count": 12,
   "id": "c0e03c0d-edf0-40e7-b37b-707f3c02ddca",
   "metadata": {},
   "outputs": [
    {
     "name": "stdout",
     "output_type": "stream",
     "text": [
      "[[[2 3 5 7]\n",
      "  [1 2 3 4]]\n",
      "\n",
      " [[1 3 5 7]\n",
      "  [2 4 6 8]]]\n"
     ]
    }
   ],
   "source": [
    "a3 = np.array([[[2,3,5,7],[1,2,3,4]],\n",
    "               [[1,3,5,7],[2,4,6,8]]])\n",
    "print(a3)"
   ]
  },
  {
   "cell_type": "markdown",
   "id": "055bf68b-7b0e-4dd2-9f23-6d05eeeecb00",
   "metadata": {},
   "source": [
    "### NOTE : NumPy has a whole sub module dedicated towards matrix operations called numpy.mat\n",
    "\n"
   ]
  },
  {
   "cell_type": "code",
   "execution_count": 13,
   "id": "b883d3e5-b2dc-4fe9-9d9c-f573ccea46e3",
   "metadata": {},
   "outputs": [],
   "source": [
    "a = np.array(69)\n",
    "b = np.array([70,71,72,73,74])\n",
    "c = np.array([[70,71,72,73,74],[2,4,6,8,20]])\n",
    "d = np.array([[[2,3,5,7],[1,2,3,4]],\n",
    "               [[1,3,5,7],[2,4,6,8]]])\n"
   ]
  },
  {
   "cell_type": "code",
   "execution_count": 14,
   "id": "8f9c6b91-f50d-4c77-b39c-e42a9bd8dcbc",
   "metadata": {},
   "outputs": [
    {
     "name": "stdout",
     "output_type": "stream",
     "text": [
      "0\n",
      "1\n",
      "2\n",
      "3\n"
     ]
    }
   ],
   "source": [
    "#NumPy Arrays provides the ndim aprttribute that returns an integer that tells us how many dimensions the array have\n",
    "print(a.ndim)\n",
    "print(b.ndim)\n",
    "print(c.ndim)\n",
    "print(d.ndim)\n"
   ]
  },
  {
   "cell_type": "code",
   "execution_count": 15,
   "id": "0376ec9b-895d-425e-80db-8c4f1796b155",
   "metadata": {},
   "outputs": [
    {
     "name": "stdout",
     "output_type": "stream",
     "text": [
      "[[[[[1 2 3]]]]]\n"
     ]
    }
   ],
   "source": [
    "arr = np.array([1,2,3] , ndmin = 5) # When the array is created, you can define the number of dimensions by using the ndmin argument.\n",
    "print(arr)"
   ]
  },
  {
   "cell_type": "code",
   "execution_count": 16,
   "id": "b03e4c6b-ea30-4c25-9c48-2327fc1a6e11",
   "metadata": {},
   "outputs": [
    {
     "name": "stdout",
     "output_type": "stream",
     "text": [
      "5\n"
     ]
    }
   ],
   "source": [
    "print(arr.ndim) "
   ]
  },
  {
   "cell_type": "code",
   "execution_count": 17,
   "id": "900fa20e-d893-481d-9d12-007d9f48c300",
   "metadata": {},
   "outputs": [
    {
     "name": "stdout",
     "output_type": "stream",
     "text": [
      "[[0. 0. 0. 0. 0.]\n",
      " [0. 0. 0. 0. 0.]]\n"
     ]
    }
   ],
   "source": [
    "zeros = np.zeros((2,5))\n",
    "print(zeros)"
   ]
  },
  {
   "cell_type": "code",
   "execution_count": 18,
   "id": "d5b3f6dd-567e-4c7a-88f4-4d458e02b461",
   "metadata": {},
   "outputs": [
    {
     "data": {
      "text/plain": [
       "dtype('float64')"
      ]
     },
     "execution_count": 18,
     "metadata": {},
     "output_type": "execute_result"
    }
   ],
   "source": [
    "zeros.dtype"
   ]
  },
  {
   "cell_type": "code",
   "execution_count": 19,
   "id": "4ee76896-a355-4ab6-89ed-7f46ff805b94",
   "metadata": {},
   "outputs": [
    {
     "data": {
      "text/plain": [
       "numpy.ndarray"
      ]
     },
     "execution_count": 19,
     "metadata": {},
     "output_type": "execute_result"
    }
   ],
   "source": [
    "type(zeros)"
   ]
  },
  {
   "cell_type": "code",
   "execution_count": 20,
   "id": "f18bdc5c-e920-4abc-a5cd-259ec38c1059",
   "metadata": {},
   "outputs": [],
   "source": [
    "rng=np.arange(15)"
   ]
  },
  {
   "cell_type": "code",
   "execution_count": 21,
   "id": "9a4f3c5d-b04b-4b5b-b124-7d4e9fb9ecdd",
   "metadata": {},
   "outputs": [
    {
     "name": "stdout",
     "output_type": "stream",
     "text": [
      "[ 0  1  2  3  4  5  6  7  8  9 10 11 12 13 14]\n",
      "<class 'numpy.ndarray'>\n"
     ]
    }
   ],
   "source": [
    "print(rng)\n",
    "print(type(rng))"
   ]
  },
  {
   "cell_type": "code",
   "execution_count": 22,
   "id": "445c3587-49c3-41a8-9a08-c2ee5342e3c2",
   "metadata": {},
   "outputs": [
    {
     "name": "stdout",
     "output_type": "stream",
     "text": [
      "[  1.           6.21052632  11.42105263  16.63157895  21.84210526\n",
      "  27.05263158  32.26315789  37.47368421  42.68421053  47.89473684\n",
      "  53.10526316  58.31578947  63.52631579  68.73684211  73.94736842\n",
      "  79.15789474  84.36842105  89.57894737  94.78947368 100.        ]\n",
      "<class 'numpy.ndarray'>\n"
     ]
    }
   ],
   "source": [
    "lspace = np.linspace(1,100,20)\n",
    "print(lspace)\n",
    "print(type(lspace))"
   ]
  },
  {
   "cell_type": "code",
   "execution_count": 23,
   "id": "2b65d3de-7930-4aaa-9480-fd45acb73380",
   "metadata": {},
   "outputs": [
    {
     "name": "stdout",
     "output_type": "stream",
     "text": [
      "20\n"
     ]
    }
   ],
   "source": [
    "print(lspace.size)"
   ]
  },
  {
   "cell_type": "code",
   "execution_count": 24,
   "id": "7e781dbb-82fa-4365-b667-03b3582ed6a1",
   "metadata": {},
   "outputs": [
    {
     "name": "stdout",
     "output_type": "stream",
     "text": [
      "[[0. 0. 0. 0. 0. 0.]\n",
      " [0. 0. 0. 0. 0. 0.]\n",
      " [0. 0. 0. 0. 0. 0.]\n",
      " [0. 0. 0. 0. 0. 0.]]\n"
     ]
    }
   ],
   "source": [
    "emp = np.empty((4,6))\n",
    "print(emp) "
   ]
  },
  {
   "cell_type": "code",
   "execution_count": 25,
   "id": "e66805f3-c246-4163-915a-807b7cf184ca",
   "metadata": {},
   "outputs": [
    {
     "data": {
      "text/plain": [
       "2"
      ]
     },
     "execution_count": 25,
     "metadata": {},
     "output_type": "execute_result"
    }
   ],
   "source": [
    "emp.ndim"
   ]
  },
  {
   "cell_type": "code",
   "execution_count": 26,
   "id": "e8f7e649-b991-4fdf-9489-7c1c5477e16f",
   "metadata": {},
   "outputs": [
    {
     "data": {
      "text/plain": [
       "(4, 6)"
      ]
     },
     "execution_count": 26,
     "metadata": {},
     "output_type": "execute_result"
    }
   ],
   "source": [
    "emp.shape"
   ]
  },
  {
   "cell_type": "code",
   "execution_count": 27,
   "id": "6ba7e28c-0b4d-482b-bac5-127af2a806af",
   "metadata": {},
   "outputs": [
    {
     "data": {
      "text/plain": [
       "24"
      ]
     },
     "execution_count": 27,
     "metadata": {},
     "output_type": "execute_result"
    }
   ],
   "source": [
    "emp.size"
   ]
  },
  {
   "cell_type": "code",
   "execution_count": 28,
   "id": "a4059264-86cc-429f-b519-06be94ac2afa",
   "metadata": {},
   "outputs": [],
   "source": [
    "ide = np.identity(45) #gives a identitiy matrix of order 45 * 45"
   ]
  },
  {
   "cell_type": "code",
   "execution_count": 29,
   "id": "61dd6f3f-4923-41ee-8ac2-cbfb253923a3",
   "metadata": {},
   "outputs": [
    {
     "name": "stdout",
     "output_type": "stream",
     "text": [
      "[[1. 0. 0. ... 0. 0. 0.]\n",
      " [0. 1. 0. ... 0. 0. 0.]\n",
      " [0. 0. 1. ... 0. 0. 0.]\n",
      " ...\n",
      " [0. 0. 0. ... 1. 0. 0.]\n",
      " [0. 0. 0. ... 0. 1. 0.]\n",
      " [0. 0. 0. ... 0. 0. 1.]]\n"
     ]
    }
   ],
   "source": [
    "print(ide)"
   ]
  },
  {
   "cell_type": "code",
   "execution_count": 30,
   "id": "f7287a3d-1085-4221-afd3-38b3b384496b",
   "metadata": {},
   "outputs": [
    {
     "data": {
      "text/plain": [
       "2025"
      ]
     },
     "execution_count": 30,
     "metadata": {},
     "output_type": "execute_result"
    }
   ],
   "source": [
    "ide.size "
   ]
  },
  {
   "cell_type": "code",
   "execution_count": 31,
   "id": "af655977-5c81-4d00-a411-0375a4311cf8",
   "metadata": {},
   "outputs": [
    {
     "data": {
      "text/plain": [
       "(45, 45)"
      ]
     },
     "execution_count": 31,
     "metadata": {},
     "output_type": "execute_result"
    }
   ],
   "source": [
    "ide.shape"
   ]
  },
  {
   "cell_type": "code",
   "execution_count": null,
   "id": "7e2c9082-a356-468f-9e39-ad38f28adb7b",
   "metadata": {},
   "outputs": [],
   "source": []
  },
  {
   "cell_type": "markdown",
   "id": "a630fe3e-843d-4b58-878a-2f58ed698e58",
   "metadata": {},
   "source": [
    "# ARRAY INDEXING & accessing"
   ]
  },
  {
   "cell_type": "code",
   "execution_count": 32,
   "id": "89bbbb8f-2280-41d8-ba26-3715ee61de84",
   "metadata": {},
   "outputs": [
    {
     "name": "stdout",
     "output_type": "stream",
     "text": [
      "[1 2 3 4 5]\n"
     ]
    }
   ],
   "source": [
    "arr = np.array([1,2,3,4,5])\n",
    "print(arr)"
   ]
  },
  {
   "cell_type": "code",
   "execution_count": 33,
   "id": "295c8a74-fc69-4ab0-9b61-647ac8c56879",
   "metadata": {},
   "outputs": [
    {
     "name": "stdout",
     "output_type": "stream",
     "text": [
      "1\n",
      "2\n",
      "3\n",
      "4\n",
      "5\n"
     ]
    }
   ],
   "source": [
    "print(arr[0])\n",
    "print(arr[1])\n",
    "print(arr[2])\n",
    "print(arr[3])\n",
    "print(arr[4])"
   ]
  },
  {
   "cell_type": "code",
   "execution_count": 34,
   "id": "460064da-48cc-494a-b85c-3bbdac0bf153",
   "metadata": {},
   "outputs": [
    {
     "name": "stdout",
     "output_type": "stream",
     "text": [
      "5\n"
     ]
    }
   ],
   "source": [
    "print(arr[0]+arr[3])"
   ]
  },
  {
   "cell_type": "code",
   "execution_count": 35,
   "id": "f7ec704d-7af6-4db2-a660-9fc1f6dca9ec",
   "metadata": {},
   "outputs": [
    {
     "name": "stdout",
     "output_type": "stream",
     "text": [
      "2nd ele of the 1st row : 2\n",
      "[1 2 3 4 5]\n"
     ]
    }
   ],
   "source": [
    "#accessing elements of a 2d array \n",
    "arr = np.array([[1,2,3,4,5], [6,7,8,9,10]])\n",
    "print(\"2nd ele of the 1st row :\" ,arr[0,1])\n",
    "print(arr[0])"
   ]
  },
  {
   "cell_type": "code",
   "execution_count": 36,
   "id": "22ac7d39-005b-4bc6-b8c0-6913f8f82167",
   "metadata": {},
   "outputs": [
    {
     "name": "stdout",
     "output_type": "stream",
     "text": [
      "[[[ 1  2  3]\n",
      "  [ 4  5  6]]\n",
      "\n",
      " [[ 7  8  9]\n",
      "  [10 11 12]]]\n"
     ]
    }
   ],
   "source": [
    "#accessing elements of a 3d array \n",
    "arr = np.array([[[1, 2, 3], [4, 5, 6]], [[7, 8, 9], [10, 11, 12]]])\n",
    "print(arr)"
   ]
  },
  {
   "cell_type": "code",
   "execution_count": 37,
   "id": "346873d3-6c9a-4ac6-9d1a-a99dbd83a465",
   "metadata": {},
   "outputs": [
    {
     "name": "stdout",
     "output_type": "stream",
     "text": [
      "1st layer from top-1st row-1st col ele is :  1\n"
     ]
    }
   ],
   "source": [
    "print(\"1st layer from top-1st row-1st col ele is : \",arr[0,0,0])"
   ]
  },
  {
   "cell_type": "code",
   "execution_count": 38,
   "id": "0061bf51-f99c-4375-92f1-2bb4ed9457a3",
   "metadata": {},
   "outputs": [
    {
     "name": "stdout",
     "output_type": "stream",
     "text": [
      "6\n"
     ]
    }
   ],
   "source": [
    "print(arr[0, 1, 2])\n"
   ]
  },
  {
   "cell_type": "code",
   "execution_count": 39,
   "id": "12f57174-048d-4e6e-9566-8d6c9d76abb1",
   "metadata": {},
   "outputs": [
    {
     "name": "stdout",
     "output_type": "stream",
     "text": [
      "12\n"
     ]
    }
   ],
   "source": [
    "#To print 12 : 2nd layer ,2nd row, 3rd col\n",
    "print(arr[1,1,2])"
   ]
  },
  {
   "cell_type": "code",
   "execution_count": 40,
   "id": "efdbdbf1-2532-4e8e-85b2-048218e36d81",
   "metadata": {},
   "outputs": [
    {
     "name": "stdout",
     "output_type": "stream",
     "text": [
      "12\n"
     ]
    }
   ],
   "source": [
    "#-ve indexing\n",
    "print(arr[-1,-1,-1])\n",
    "##1st layer from bottom , last row, last col"
   ]
  },
  {
   "cell_type": "markdown",
   "id": "619f474b-ddb3-43c0-9338-19186683a714",
   "metadata": {},
   "source": [
    "# slicing"
   ]
  },
  {
   "cell_type": "code",
   "execution_count": 41,
   "id": "6c379d53-c81f-4540-a1db-f52f3644cf20",
   "metadata": {},
   "outputs": [
    {
     "name": "stdout",
     "output_type": "stream",
     "text": [
      "[4 5 6 7]\n",
      "[7 6 5 4 3 2 1]\n"
     ]
    }
   ],
   "source": [
    "#slicing 1d array \n",
    "arr = np.array([1,2,3,4,5,6,7])\n",
    "print(arr[3::])\n",
    "print(arr[-1::-1])"
   ]
  },
  {
   "cell_type": "markdown",
   "id": "08f9d424-98b8-4894-843b-46b3c21f830c",
   "metadata": {},
   "source": [
    "#### slicing 2d array\n",
    "#### From the second element, slice elements from index 1 to index 4 (not included):"
   ]
  },
  {
   "cell_type": "code",
   "execution_count": 42,
   "id": "9df2dc8e-5762-4687-9fa8-debd2a2c8200",
   "metadata": {},
   "outputs": [
    {
     "name": "stdout",
     "output_type": "stream",
     "text": [
      "[7 8 9]\n"
     ]
    }
   ],
   "source": [
    "arr = np.array([[1, 2, 3, 4, 5], \n",
    "                [6, 7, 8, 9, 10]])\n",
    "print(arr[1,1:4]) #Note: Remember that second element has index 1"
   ]
  },
  {
   "cell_type": "markdown",
   "id": "04378b50-db5f-4586-9de0-d3c9d7d152e5",
   "metadata": {},
   "source": [
    "#### From both elements, return index 2:"
   ]
  },
  {
   "cell_type": "code",
   "execution_count": 43,
   "id": "b1f90ac2-2d8e-4b97-912e-feab4a0dd18c",
   "metadata": {},
   "outputs": [
    {
     "name": "stdout",
     "output_type": "stream",
     "text": [
      "[3 8]\n"
     ]
    }
   ],
   "source": [
    "print(arr[0:2,2]) #slicing "
   ]
  },
  {
   "cell_type": "code",
   "execution_count": 44,
   "id": "77b31b9f-bd0b-4e51-bffd-9fdacd277736",
   "metadata": {},
   "outputs": [
    {
     "name": "stdout",
     "output_type": "stream",
     "text": [
      "3 8\n"
     ]
    }
   ],
   "source": [
    "print(arr[0,2] , arr[1,2]) #indexing"
   ]
  },
  {
   "cell_type": "markdown",
   "id": "ac5cb801-5595-4218-9830-27afc09391d0",
   "metadata": {},
   "source": [
    "#### From both elements, slice index 1 to index 4 (not included), this will return a 2-D array:"
   ]
  },
  {
   "cell_type": "code",
   "execution_count": 45,
   "id": "5fd0bca4-2935-4eda-b31a-a3a4c5004201",
   "metadata": {},
   "outputs": [
    {
     "name": "stdout",
     "output_type": "stream",
     "text": [
      "[[2 3 4]\n",
      " [7 8 9]]\n"
     ]
    }
   ],
   "source": [
    "print(arr[0:,1:4])"
   ]
  },
  {
   "cell_type": "markdown",
   "id": "cafd5867-7813-488d-8292-7c8062de2734",
   "metadata": {},
   "source": [
    "# Data Types"
   ]
  },
  {
   "cell_type": "code",
   "execution_count": 46,
   "id": "cdae12fb-55a9-4fe9-95b4-ad379316f7ad",
   "metadata": {},
   "outputs": [
    {
     "name": "stdout",
     "output_type": "stream",
     "text": [
      "<class 'numpy.ndarray'>\n",
      "float64\n"
     ]
    }
   ],
   "source": [
    "#The NumPy array object has a property called dtype that returns the data type of the array:\n",
    "\n",
    "import numpy as np\n",
    "arr = np.array([1.2,2.4,6,24])\n",
    "print(type(arr))\n",
    "print(arr.dtype) #prints data type of elements in array "
   ]
  },
  {
   "cell_type": "code",
   "execution_count": 47,
   "id": "20fe716c-29fc-407a-9a34-2620e3807a9d",
   "metadata": {},
   "outputs": [
    {
     "name": "stdout",
     "output_type": "stream",
     "text": [
      "<class 'numpy.ndarray'>\n",
      "int64\n",
      "<class 'numpy.ndarray'>\n",
      "bool\n",
      "<class 'numpy.ndarray'>\n",
      "<U7\n"
     ]
    }
   ],
   "source": [
    "p = np.array([True , False, 0, 1])\n",
    "b = np.array([True , False])\n",
    "s = np.array([\"alpha\",'beeta','delta','pro','sridhar'])\n",
    "print(type(p))\n",
    "print(p.dtype)\n",
    "\n",
    "print(type(b))\n",
    "print(b.dtype)\n",
    "\n",
    "print(type(s))\n",
    "print(s.dtype)#  U - unicode string (4 bytes per character , multi-lang & emoji support)"
   ]
  },
  {
   "cell_type": "markdown",
   "id": "db7625a6-cf2d-4c82-b8e0-73e9f8f7bd0d",
   "metadata": {},
   "source": [
    "#### Creating Arrays With a Defined Data Type"
   ]
  },
  {
   "cell_type": "code",
   "execution_count": 48,
   "id": "17fcfed1-c96a-4f64-8a28-f08ed1aefe22",
   "metadata": {},
   "outputs": [],
   "source": [
    "arr = np.array([1,2,3,4,5] , dtype = 'S') # S - byte string (1 bytes per character , doesnt support multi-lang & emoji )"
   ]
  },
  {
   "cell_type": "code",
   "execution_count": 49,
   "id": "74efa13b-205d-45f4-805e-4cfcfe254f85",
   "metadata": {},
   "outputs": [
    {
     "name": "stdout",
     "output_type": "stream",
     "text": [
      "[b'1' b'2' b'3' b'4' b'5']\n"
     ]
    }
   ],
   "source": [
    "print(arr)"
   ]
  },
  {
   "cell_type": "code",
   "execution_count": 50,
   "id": "2cbb0768-80ed-4202-aa44-2db4f1779243",
   "metadata": {},
   "outputs": [],
   "source": [
    "arr = np.array([1,2,3,4,5] , dtype = 'f') # f - float "
   ]
  },
  {
   "cell_type": "code",
   "execution_count": 51,
   "id": "f058b195-c46d-4ed0-bbbf-2a7eba16c1ab",
   "metadata": {},
   "outputs": [
    {
     "name": "stdout",
     "output_type": "stream",
     "text": [
      "[1. 2. 3. 4. 5.]\n"
     ]
    }
   ],
   "source": [
    "print(arr)"
   ]
  },
  {
   "cell_type": "code",
   "execution_count": 52,
   "id": "624f12c1-a00b-417b-90db-902a1c5f6536",
   "metadata": {},
   "outputs": [
    {
     "ename": "ValueError",
     "evalue": "invalid literal for int() with base 10: 'a'",
     "output_type": "error",
     "traceback": [
      "\u001b[31m---------------------------------------------------------------------------\u001b[39m",
      "\u001b[31mValueError\u001b[39m                                Traceback (most recent call last)",
      "\u001b[36mCell\u001b[39m\u001b[36m \u001b[39m\u001b[32mIn[52]\u001b[39m\u001b[32m, line 1\u001b[39m\n\u001b[32m----> \u001b[39m\u001b[32m1\u001b[39m arr = np.array([\u001b[33m'\u001b[39m\u001b[33ma\u001b[39m\u001b[33m'\u001b[39m, \u001b[33m'\u001b[39m\u001b[33m2\u001b[39m\u001b[33m'\u001b[39m, \u001b[33m'\u001b[39m\u001b[33m3\u001b[39m\u001b[33m'\u001b[39m], dtype=\u001b[33m'\u001b[39m\u001b[33mi\u001b[39m\u001b[33m'\u001b[39m)\n",
      "\u001b[31mValueError\u001b[39m: invalid literal for int() with base 10: 'a'"
     ]
    }
   ],
   "source": [
    "arr = np.array(['a', '2', '3'], dtype='i') # A non integer string like 'a' can not be converted to integer \n"
   ]
  },
  {
   "cell_type": "markdown",
   "id": "a6762de2-8e5b-47da-ad77-fa2419d890e5",
   "metadata": {},
   "source": [
    "#### Converting Data Type on Existing Arrays"
   ]
  },
  {
   "cell_type": "code",
   "execution_count": 53,
   "id": "b96b0183-4fcf-492f-9c11-663557f367e8",
   "metadata": {},
   "outputs": [
    {
     "name": "stdout",
     "output_type": "stream",
     "text": [
      "[1. 2. 3. 5. 6.]\n",
      "float64\n",
      "['1' '2' '3' '5' '6']\n",
      "<U21\n"
     ]
    }
   ],
   "source": [
    "# astype() function creates a copy of the array, and allows you to specify the data type as a parameter.\n",
    "# The data type can be specified using a string, like 'f' for float, 'i' for integer etc.\n",
    "# or you can use the data type directly like float for float and int for integer.\n",
    "\n",
    "arr = np.array([1,2,3,5,6])\n",
    "newarr = arr.astype(float)\n",
    "otherarr = arr.astype(str)\n",
    "\n",
    "print(newarr)\n",
    "print(newarr.dtype)\n",
    "\n",
    "print(otherarr)\n",
    "print(otherarr.dtype)"
   ]
  },
  {
   "cell_type": "code",
   "execution_count": 54,
   "id": "54d88b94-d5e9-4fab-9624-9837d0de1749",
   "metadata": {},
   "outputs": [
    {
     "name": "stdout",
     "output_type": "stream",
     "text": [
      "[1 2 3 5 6]\n",
      "int64\n"
     ]
    }
   ],
   "source": [
    "print(arr)\n",
    "print(arr.dtype)"
   ]
  },
  {
   "cell_type": "code",
   "execution_count": 55,
   "id": "cd791d12-c5db-4f35-b152-49304ba346ae",
   "metadata": {},
   "outputs": [
    {
     "name": "stdout",
     "output_type": "stream",
     "text": [
      "[False  True  True  True]\n",
      "bool\n"
     ]
    }
   ],
   "source": [
    "arr = np.array([0,0.1,1,2])\n",
    "boolarr = arr.astype(bool)\n",
    "print(boolarr)\n",
    "print(boolarr.dtype)"
   ]
  },
  {
   "cell_type": "markdown",
   "id": "fb9deb24-76ae-4536-92eb-c21cf7432249",
   "metadata": {},
   "source": [
    "# NumPy Array Copy vs View"
   ]
  },
  {
   "cell_type": "code",
   "execution_count": 56,
   "id": "ad236e26-e68a-44da-aea3-c7ef1d53c1a8",
   "metadata": {},
   "outputs": [],
   "source": [
    "#### The copy owns the data and any changes made to the copy will not affect original array, and vice versa\n",
    "#### The view does not own the data and any changes made to the view will affect the original array, and vice versa"
   ]
  },
  {
   "cell_type": "markdown",
   "id": "4a98f207-b65f-489f-9d06-b23cee446d50",
   "metadata": {},
   "source": [
    "####  Make a copy, change the original array, and display both arrays:"
   ]
  },
  {
   "cell_type": "code",
   "execution_count": 57,
   "id": "5b32148d-6903-40a1-b6f6-431164442ef1",
   "metadata": {},
   "outputs": [
    {
     "name": "stdout",
     "output_type": "stream",
     "text": [
      "[11 22 33 44 55]\n",
      "[11 22 33 69 55]\n"
     ]
    }
   ],
   "source": [
    "arr = np.array([11,22,33,44,55])\n",
    "x = arr.copy() #copies the arr into new arr\n",
    "x[3] = 69\n",
    "\n",
    "print(arr)\n",
    "print(x)"
   ]
  },
  {
   "cell_type": "markdown",
   "id": "7b087fdf-dc51-4ece-b014-0db1f0124b15",
   "metadata": {},
   "source": [
    "#### Make a view, change the original array, and display both arrays:"
   ]
  },
  {
   "cell_type": "code",
   "execution_count": 58,
   "id": "44f8bd46-2433-43a4-99f2-43c0d0f3c94b",
   "metadata": {},
   "outputs": [
    {
     "name": "stdout",
     "output_type": "stream",
     "text": [
      "[42  2  3  4  5]\n",
      "[42  2  3  4  5]\n"
     ]
    }
   ],
   "source": [
    "arr = np.array([1, 2, 3, 4, 5])\n",
    "x = arr.view()\n",
    "arr[0] = 42  #The view SHOULD be affected by the changes made to the original array.\n",
    "\n",
    "print(arr)\n",
    "print(x)"
   ]
  },
  {
   "cell_type": "code",
   "execution_count": 59,
   "id": "30a2c30b-6c47-4b44-b714-9b1ad9a71851",
   "metadata": {},
   "outputs": [
    {
     "name": "stdout",
     "output_type": "stream",
     "text": [
      "[31  2  3  4  5]\n",
      "[31  2  3  4  5]\n"
     ]
    }
   ],
   "source": [
    "arr = np.array([1, 2, 3, 4, 5])\n",
    "x = arr.view()\n",
    "x[0] = 31  #The original array SHOULD be affected by the changes made to the view.\n",
    "\n",
    "print(arr)\n",
    "print(x)"
   ]
  },
  {
   "cell_type": "markdown",
   "id": "eb71b8f2-f4df-4783-b66f-910ffdcb7b9f",
   "metadata": {},
   "source": [
    "#### Check if Array Owns its Data"
   ]
  },
  {
   "cell_type": "code",
   "execution_count": 60,
   "id": "5aed7cd3-5800-44ec-91fb-8b8ff06193e3",
   "metadata": {},
   "outputs": [],
   "source": [
    "#### Every NumPy array has the attribute base that returns None if the array owns the data.\n",
    "#### Otherwise, the base  attribute refers to the original object."
   ]
  },
  {
   "cell_type": "code",
   "execution_count": 61,
   "id": "d92d8300-9be7-48a4-ab18-60c43d28d7c5",
   "metadata": {},
   "outputs": [
    {
     "name": "stdout",
     "output_type": "stream",
     "text": [
      "None\n",
      "[1 2 3 4 5]\n"
     ]
    }
   ],
   "source": [
    "arr = np.array([1, 2, 3, 4, 5])\n",
    "\n",
    "x=arr.copy()\n",
    "y=arr.view()\n",
    "\n",
    "print(x.base)\n",
    "print(y.base)"
   ]
  },
  {
   "cell_type": "markdown",
   "id": "7106d0d6-038e-4d35-873d-9dacecfe8915",
   "metadata": {},
   "source": [
    "# NumPy Array Shape"
   ]
  },
  {
   "cell_type": "markdown",
   "id": "ae5f92d0-c48a-4b0b-aded-b387da673b47",
   "metadata": {},
   "source": [
    "#### shape : The shape of an array is the number of elements in each dimension"
   ]
  },
  {
   "cell_type": "code",
   "execution_count": 62,
   "id": "1594f7e7-dfd9-4b7f-a99f-588087efa262",
   "metadata": {},
   "outputs": [],
   "source": [
    "a = np.array([1,2,3])\n",
    "b = np.array([[1,2,3],\n",
    "              [4,5,6]])\n",
    "c = np.array([[[1,2,3],\n",
    "              [4,5,6]],\n",
    "             \n",
    "             [[11,22,33],\n",
    "              [44,55,66]]])"
   ]
  },
  {
   "cell_type": "code",
   "execution_count": 63,
   "id": "fdce4ae4-8443-4b1a-9a54-0c8162bfa671",
   "metadata": {},
   "outputs": [
    {
     "name": "stdout",
     "output_type": "stream",
     "text": [
      "(3,) (2, 3) (2, 2, 3)\n"
     ]
    }
   ],
   "source": [
    "print(a.shape , b.shape , c.shape) #returns a tuple with each index having the number of corresponding elements."
   ]
  },
  {
   "cell_type": "code",
   "execution_count": 64,
   "id": "427cfb9c-265f-4b97-be8d-7e397628bb24",
   "metadata": {},
   "outputs": [
    {
     "name": "stdout",
     "output_type": "stream",
     "text": [
      "(1, 1, 1, 1, 4)\n"
     ]
    }
   ],
   "source": [
    "# Create an array with 5 dimensions using ndmin using a vector with values 11,22,33,44 and verify that last dimension has value 4:\n",
    "\n",
    "arr = np.array([11,22,33,44] , ndmin = 5)\n",
    "print(arr.shape)"
   ]
  },
  {
   "cell_type": "markdown",
   "id": "525a74e0-75fd-4439-93a7-1e9655038ae4",
   "metadata": {},
   "source": [
    "# NumPy Array Reshape"
   ]
  },
  {
   "cell_type": "code",
   "execution_count": 65,
   "id": "a3f93345-c68c-4c9f-b34c-7e52df30600b",
   "metadata": {},
   "outputs": [],
   "source": [
    "#### Convert the following 1-D array with 12 elements into a 2-D array.\n",
    "#### The outermost dimension will have 4 arrays, each with 3 elements:"
   ]
  },
  {
   "cell_type": "markdown",
   "id": "fe8c811b-f0e0-462d-88df-22872edf2011",
   "metadata": {},
   "source": [
    "# completed till numpy array reshape"
   ]
  },
  {
   "cell_type": "markdown",
   "id": "88013558-ac89-44b7-998b-bb6e51293514",
   "metadata": {},
   "source": [
    "### BUT THEN MISTAKELY IVE BACKSPACED THE COMPLETE THING , UNAWARE OF THE FACT THIS BLODDY APP DOESNT HAVE A FEATURE TO UNDO THE ACTION HATS OFF TO THE DEVELPOERS !!!!!"
   ]
  },
  {
   "cell_type": "code",
   "execution_count": 66,
   "id": "84f4f8b5-8bc4-4465-8762-2bd1738001fb",
   "metadata": {},
   "outputs": [
    {
     "name": "stdout",
     "output_type": "stream",
     "text": [
      "[ 1  2  3  4  5  6  7  8  9 10 11 12]\n",
      "[ 1  2  3  4  5  6  7  8  9 10 11 12]\n"
     ]
    }
   ],
   "source": [
    "arr = np.array([[1, 2, 3, 4, 5, 6], [7, 8, 9, 10, 11, 12]])\n",
    "a=arr.reshape(-1)\n",
    "print(a)\n",
    "print(arr.reshape(12))"
   ]
  },
  {
   "cell_type": "markdown",
   "id": "d715e086-4e67-4b98-bdb1-653390c0fbc3",
   "metadata": {},
   "source": [
    "---"
   ]
  },
  {
   "cell_type": "code",
   "execution_count": 67,
   "id": "8b6fa3fb-7b4e-44c2-8f59-fb4f0d676e10",
   "metadata": {},
   "outputs": [
    {
     "name": "stdout",
     "output_type": "stream",
     "text": [
      "[ 10.          19.18918919  28.37837838  37.56756757  46.75675676\n",
      "  55.94594595  65.13513514  74.32432432  83.51351351  92.7027027\n",
      " 101.89189189 111.08108108 120.27027027 129.45945946 138.64864865\n",
      " 147.83783784 157.02702703 166.21621622 175.40540541 184.59459459\n",
      " 193.78378378 202.97297297 212.16216216 221.35135135 230.54054054\n",
      " 239.72972973 248.91891892 258.10810811 267.2972973  276.48648649\n",
      " 285.67567568 294.86486486 304.05405405 313.24324324 322.43243243\n",
      " 331.62162162 340.81081081 350.         359.18918919 368.37837838\n",
      " 377.56756757 386.75675676 395.94594595 405.13513514 414.32432432\n",
      " 423.51351351 432.7027027  441.89189189 451.08108108 460.27027027\n",
      " 469.45945946 478.64864865 487.83783784 497.02702703 506.21621622\n",
      " 515.40540541 524.59459459 533.78378378 542.97297297 552.16216216\n",
      " 561.35135135 570.54054054 579.72972973 588.91891892 598.10810811\n",
      " 607.2972973  616.48648649 625.67567568 634.86486486 644.05405405\n",
      " 653.24324324 662.43243243 671.62162162 680.81081081 690.        ]\n"
     ]
    }
   ],
   "source": [
    "import numpy as np\n",
    "linspace=np.linspace(10,690,75)\n",
    "print(linspace) # creates equally spaced 75 elements from 10 to 690"
   ]
  },
  {
   "cell_type": "code",
   "execution_count": 68,
   "id": "4bbb4e49-46b3-4283-8ebc-1969a94c6723",
   "metadata": {},
   "outputs": [
    {
     "data": {
      "text/plain": [
       "-9.189189190000036"
      ]
     },
     "execution_count": 68,
     "metadata": {},
     "output_type": "execute_result"
    }
   ],
   "source": [
    "(386.75675676-395.94594595)"
   ]
  },
  {
   "cell_type": "code",
   "execution_count": 69,
   "id": "e8f17ff8-7369-4ab4-898b-60fe3de37739",
   "metadata": {},
   "outputs": [
    {
     "data": {
      "text/plain": [
       "-9.18918919"
      ]
     },
     "execution_count": 69,
     "metadata": {},
     "output_type": "execute_result"
    }
   ],
   "source": [
    "(28.37837838-37.56756757) "
   ]
  },
  {
   "cell_type": "code",
   "execution_count": 70,
   "id": "a9db384a-01d7-4e81-8178-a6f6e3f98041",
   "metadata": {},
   "outputs": [
    {
     "data": {
      "text/plain": [
       "75"
      ]
     },
     "execution_count": 70,
     "metadata": {},
     "output_type": "execute_result"
    }
   ],
   "source": [
    "linspace.size"
   ]
  },
  {
   "cell_type": "code",
   "execution_count": 71,
   "id": "d3da72c3-4fcb-4091-95a8-bf75481af51b",
   "metadata": {},
   "outputs": [
    {
     "data": {
      "text/plain": [
       "dtype('float64')"
      ]
     },
     "execution_count": 71,
     "metadata": {},
     "output_type": "execute_result"
    }
   ],
   "source": [
    "linspace.dtype"
   ]
  },
  {
   "cell_type": "code",
   "execution_count": 72,
   "id": "f29d18ba-59fc-4c3e-b28b-503bc8f10298",
   "metadata": {},
   "outputs": [],
   "source": [
    "a = np.array([1,2,3])\n",
    "b = np.array([3,4,5])"
   ]
  },
  {
   "cell_type": "code",
   "execution_count": 73,
   "id": "bc414add-cedc-439e-9f45-9d7825694d6f",
   "metadata": {},
   "outputs": [
    {
     "data": {
      "text/plain": [
       "array([4, 6, 8])"
      ]
     },
     "execution_count": 73,
     "metadata": {},
     "output_type": "execute_result"
    }
   ],
   "source": [
    "a+b"
   ]
  },
  {
   "cell_type": "code",
   "execution_count": 74,
   "id": "9d65fb0d-1357-4efd-8031-b2e6384f4776",
   "metadata": {},
   "outputs": [
    {
     "data": {
      "text/plain": [
       "array([[ 1,  2,  3,  4,  5,  6],\n",
       "       [ 7,  8,  9, 10, 11, 12]])"
      ]
     },
     "execution_count": 74,
     "metadata": {},
     "output_type": "execute_result"
    }
   ],
   "source": [
    "arr"
   ]
  },
  {
   "cell_type": "markdown",
   "id": "534c52f1-b9ac-4c1d-a11a-d925b7fd56c1",
   "metadata": {},
   "source": [
    "---\n"
   ]
  },
  {
   "cell_type": "code",
   "execution_count": 75,
   "id": "01111f4d-b45e-4e5c-a08a-7888a764ee54",
   "metadata": {},
   "outputs": [],
   "source": [
    "x = [[1,2,3],[4,5,6],[7,1,0]]"
   ]
  },
  {
   "cell_type": "code",
   "execution_count": 65,
   "id": "d7edb5db-767b-458c-932d-344929dd9279",
   "metadata": {},
   "outputs": [],
   "source": [
    "br = np.array(x)"
   ]
  },
  {
   "cell_type": "code",
   "execution_count": 77,
   "id": "8df31cae-f85b-47be-aae3-d02926ac131e",
   "metadata": {},
   "outputs": [
    {
     "data": {
      "text/plain": [
       "array([[1, 2, 3],\n",
       "       [4, 5, 6],\n",
       "       [7, 1, 0]])"
      ]
     },
     "execution_count": 77,
     "metadata": {},
     "output_type": "execute_result"
    }
   ],
   "source": [
    "br"
   ]
  },
  {
   "cell_type": "code",
   "execution_count": 78,
   "id": "0408d977-6f4a-48a8-891c-a21a7550efd2",
   "metadata": {},
   "outputs": [
    {
     "data": {
      "text/plain": [
       "array([12,  8,  9])"
      ]
     },
     "execution_count": 78,
     "metadata": {},
     "output_type": "execute_result"
    }
   ],
   "source": [
    "br.sum(axis = 0)"
   ]
  },
  {
   "cell_type": "code",
   "execution_count": 79,
   "id": "207b6b88-a55c-4c77-9d7e-16ac0735e07c",
   "metadata": {},
   "outputs": [
    {
     "data": {
      "text/plain": [
       "array([ 6, 15,  8])"
      ]
     },
     "execution_count": 79,
     "metadata": {},
     "output_type": "execute_result"
    }
   ],
   "source": [
    "br.sum(axis = 1)"
   ]
  },
  {
   "cell_type": "code",
   "execution_count": 80,
   "id": "599a9622-df50-4aef-95af-7d811520cca6",
   "metadata": {},
   "outputs": [
    {
     "data": {
      "text/plain": [
       "array([[1, 4, 7],\n",
       "       [2, 5, 1],\n",
       "       [3, 6, 0]])"
      ]
     },
     "execution_count": 80,
     "metadata": {},
     "output_type": "execute_result"
    }
   ],
   "source": [
    "br.T # Transpose"
   ]
  },
  {
   "cell_type": "code",
   "execution_count": 81,
   "id": "240f1133-8896-4526-82e0-37d6729bf0ea",
   "metadata": {},
   "outputs": [
    {
     "name": "stdout",
     "output_type": "stream",
     "text": [
      "1\n",
      "2\n",
      "3\n",
      "4\n",
      "5\n",
      "6\n",
      "7\n",
      "1\n",
      "0\n"
     ]
    }
   ],
   "source": [
    "for item in br.flat:\n",
    "    print(item)"
   ]
  },
  {
   "cell_type": "code",
   "execution_count": 82,
   "id": "cb568591-b465-47c3-8ccc-601d8d8e6bd7",
   "metadata": {},
   "outputs": [
    {
     "data": {
      "text/plain": [
       "9"
      ]
     },
     "execution_count": 82,
     "metadata": {},
     "output_type": "execute_result"
    }
   ],
   "source": [
    "br.size"
   ]
  },
  {
   "cell_type": "code",
   "execution_count": 83,
   "id": "792c4404-097f-41e6-a78b-255c2db547a8",
   "metadata": {},
   "outputs": [
    {
     "data": {
      "text/plain": [
       "(3, 3)"
      ]
     },
     "execution_count": 83,
     "metadata": {},
     "output_type": "execute_result"
    }
   ],
   "source": [
    "br.shape"
   ]
  },
  {
   "cell_type": "code",
   "execution_count": 66,
   "id": "6b758dc2-8707-4d5e-9594-87b7215f1b1b",
   "metadata": {},
   "outputs": [
    {
     "data": {
      "text/plain": [
       "8"
      ]
     },
     "execution_count": 66,
     "metadata": {},
     "output_type": "execute_result"
    }
   ],
   "source": [
    "br.nbytes # gives total bytes consumed"
   ]
  },
  {
   "cell_type": "code",
   "execution_count": 87,
   "id": "cd394322-7812-4791-9d54-5a2c259bdc8a",
   "metadata": {},
   "outputs": [],
   "source": [
    "one = np.array([1,2,34,5,6,67,23])"
   ]
  },
  {
   "cell_type": "code",
   "execution_count": 90,
   "id": "04c36fcd-e362-4c45-b6ee-1f47ea1d948b",
   "metadata": {},
   "outputs": [
    {
     "data": {
      "text/plain": [
       "np.int64(5)"
      ]
     },
     "execution_count": 90,
     "metadata": {},
     "output_type": "execute_result"
    }
   ],
   "source": [
    "one.argmax() # returns the index of maxm val"
   ]
  },
  {
   "cell_type": "code",
   "execution_count": 91,
   "id": "1e9fa5fb-2f25-4ce5-a54e-5cb00cd9b89c",
   "metadata": {},
   "outputs": [
    {
     "data": {
      "text/plain": [
       "np.int64(0)"
      ]
     },
     "execution_count": 91,
     "metadata": {},
     "output_type": "execute_result"
    }
   ],
   "source": [
    "one.argmin() # returns the index of minm val"
   ]
  },
  {
   "cell_type": "code",
   "execution_count": 92,
   "id": "555f13ab-626f-42bb-aff3-fbfe075146ca",
   "metadata": {},
   "outputs": [
    {
     "data": {
      "text/plain": [
       "array([0, 1, 3, 4, 6, 2, 5])"
      ]
     },
     "execution_count": 92,
     "metadata": {},
     "output_type": "execute_result"
    }
   ],
   "source": [
    "one.argsort() # gives an array  of indexes , of ascending order of sorted array \n"
   ]
  },
  {
   "cell_type": "markdown",
   "id": "070b1113-6318-4bb0-b260-d4e63e4a5396",
   "metadata": {},
   "source": [
    "---"
   ]
  },
  {
   "cell_type": "markdown",
   "id": "82978bfb-e411-4084-a351-716f4b4d14ac",
   "metadata": {},
   "source": [
    "# lambda FUnction"
   ]
  },
  {
   "cell_type": "code",
   "execution_count": 5,
   "id": "7c5c2fc6-fb61-435d-b9c5-676c3bdb9f12",
   "metadata": {},
   "outputs": [],
   "source": [
    "# syntax:\n",
    "# lambda arguments : expression"
   ]
  },
  {
   "cell_type": "markdown",
   "id": "0b00e6d4-7287-4ff7-b6f8-35646a1ba64d",
   "metadata": {},
   "source": [
    "Q.Add 10 to argument a, and return the result:"
   ]
  },
  {
   "cell_type": "code",
   "execution_count": 6,
   "id": "cf372b1b-b6c0-47ad-bf2f-047197821632",
   "metadata": {},
   "outputs": [],
   "source": [
    "x = lambda a: a+10"
   ]
  },
  {
   "cell_type": "code",
   "execution_count": 7,
   "id": "80d7ded5-54ec-40af-949e-7578b8153a51",
   "metadata": {},
   "outputs": [
    {
     "name": "stdout",
     "output_type": "stream",
     "text": [
      "79\n"
     ]
    }
   ],
   "source": [
    "print(x(69))"
   ]
  },
  {
   "cell_type": "markdown",
   "id": "c3666768-d9f2-4bd2-9d30-37d61a020c9a",
   "metadata": {},
   "source": [
    "Q.Multiply argument a with argument b and return the result:"
   ]
  },
  {
   "cell_type": "code",
   "execution_count": 10,
   "id": "72c48a0e-43d9-4b84-a68e-32ef987e4310",
   "metadata": {},
   "outputs": [
    {
     "name": "stdout",
     "output_type": "stream",
     "text": [
      "54\n"
     ]
    }
   ],
   "source": [
    "y = lambda a,b: a*b\n",
    "print(y(6,9))\n"
   ]
  },
  {
   "cell_type": "markdown",
   "id": "0f6a0d40-417d-44ed-8845-dc6bcd6a96e2",
   "metadata": {},
   "source": [
    "Q.Summarize argument a, b, and c and return the result:"
   ]
  },
  {
   "cell_type": "code",
   "execution_count": 11,
   "id": "8a46f45c-55b5-4b98-b79e-26e3d2081a8c",
   "metadata": {},
   "outputs": [
    {
     "name": "stdout",
     "output_type": "stream",
     "text": [
      "84\n"
     ]
    }
   ],
   "source": [
    "s = lambda a,b,c : a+b+c\n",
    "print(s(69,6,9))"
   ]
  },
  {
   "cell_type": "markdown",
   "id": "0e7b394f-b356-42d1-b4ec-d8d084ff106b",
   "metadata": {},
   "source": [
    "---"
   ]
  },
  {
   "cell_type": "markdown",
   "id": "bf96c6d1-7752-4162-b815-a19962aa71e4",
   "metadata": {},
   "source": [
    "# map() function"
   ]
  },
  {
   "cell_type": "markdown",
   "id": "62420d8f-b5cf-4abc-aed4-d2c90b83be2e",
   "metadata": {},
   "source": [
    "SYNTAX : map(function, iterables)"
   ]
  },
  {
   "cell_type": "code",
   "execution_count": 48,
   "id": "23d835c3-8c81-45a3-8880-0cb5a2ca3e49",
   "metadata": {},
   "outputs": [],
   "source": [
    "def myfun(n):\n",
    "    return len(n)\n",
    "x = map(myfun , ['apple','banana','potato'])"
   ]
  },
  {
   "cell_type": "code",
   "execution_count": 49,
   "id": "7557c820-2ff2-4adc-9d3c-d68913b666dd",
   "metadata": {},
   "outputs": [
    {
     "name": "stdout",
     "output_type": "stream",
     "text": [
      "<map object at 0x000001617BA49180>\n"
     ]
    }
   ],
   "source": [
    "print(x)"
   ]
  },
  {
   "cell_type": "code",
   "execution_count": 50,
   "id": "f5cbcc52-ac0c-43aa-add7-1dc19abc0ed4",
   "metadata": {},
   "outputs": [
    {
     "name": "stdout",
     "output_type": "stream",
     "text": [
      "[5, 6, 6]\n"
     ]
    }
   ],
   "source": [
    "print(list(x))"
   ]
  },
  {
   "cell_type": "markdown",
   "id": "089c6ed7-d664-4882-b280-c93177e2611f",
   "metadata": {},
   "source": [
    "Q.Make new fruits by sending two iterable objects into the function:"
   ]
  },
  {
   "cell_type": "code",
   "execution_count": 57,
   "id": "93de28ac-f3c9-4004-bb83-095b4ac575b3",
   "metadata": {},
   "outputs": [],
   "source": [
    "def myfun(a,b):\n",
    "    return a+b\n",
    "new = map(myfun , ['apple' , 'banana' , 'grapes'],['orange' , 'pumpkin' , 'papaya'])"
   ]
  },
  {
   "cell_type": "code",
   "execution_count": 59,
   "id": "7af427f1-9b17-40ed-8c19-9100e7542764",
   "metadata": {},
   "outputs": [
    {
     "name": "stdout",
     "output_type": "stream",
     "text": [
      "['appleorange', 'bananapumpkin', 'grapespapaya']\n"
     ]
    }
   ],
   "source": [
    "print(list(new))"
   ]
  },
  {
   "cell_type": "markdown",
   "id": "e2f7a9a4-72f0-4a70-8473-ed1b89e4f2f6",
   "metadata": {},
   "source": [
    "# Filter() Function"
   ]
  },
  {
   "cell_type": "markdown",
   "id": "339f755c-a18f-4196-bac0-c9ba94b0d47f",
   "metadata": {},
   "source": [
    "SYNTAX : filter(function, iterable)"
   ]
  },
  {
   "cell_type": "code",
   "execution_count": 61,
   "id": "dd2ecfc7-3abd-4175-b20c-88d423acb3fa",
   "metadata": {},
   "outputs": [
    {
     "name": "stdout",
     "output_type": "stream",
     "text": [
      "[18, 24, 32]\n"
     ]
    }
   ],
   "source": [
    "# Filter the array, and return a new array with only the values equal to or above 18:\n",
    "ages = [5, 12, 17, 18, 24, 32]\n",
    "adult  = list(filter(lambda a : a>=18,ages))\n",
    "print(adult)"
   ]
  },
  {
   "cell_type": "markdown",
   "id": "2068910c-289b-4391-9ec2-b2518be8554e",
   "metadata": {},
   "source": [
    "---"
   ]
  },
  {
   "cell_type": "markdown",
   "id": "4e080cf3-dc9e-4b87-ba7b-f6a56f38f69b",
   "metadata": {},
   "source": [
    "# all() Function"
   ]
  },
  {
   "cell_type": "raw",
   "id": "450c3256-6ef0-4162-b54f-c424ef4e4b6c",
   "metadata": {},
   "source": [
    "Definition and Usage : \n",
    "The all() function returns True if all items in an iterable are true, otherwise it returns False.\n",
    "If the iterable object is empty, the all() function also returns True."
   ]
  },
  {
   "cell_type": "markdown",
   "id": "63a056c2-9f92-470d-8dbc-ebd663d582dc",
   "metadata": {},
   "source": [
    "SYNTAX : all(iterable) "
   ]
  },
  {
   "cell_type": "code",
   "execution_count": 62,
   "id": "12e2fb99-ad9d-420f-ba9a-102ad7447d04",
   "metadata": {},
   "outputs": [],
   "source": [
    "# iterable - (list, tuple, dictionary)"
   ]
  },
  {
   "cell_type": "markdown",
   "id": "a13af037-3895-4412-b12e-950016d2b7a1",
   "metadata": {},
   "source": [
    "Q.Check if all items in a list are True"
   ]
  },
  {
   "cell_type": "code",
   "execution_count": 67,
   "id": "d1ad9831-426b-4470-8c49-f3e1926fa1e9",
   "metadata": {},
   "outputs": [],
   "source": [
    "a = all([0,1,1,0])\n",
    "b = all([1,1,1])"
   ]
  },
  {
   "cell_type": "code",
   "execution_count": 68,
   "id": "4bbb1140-6a32-4564-acd5-66a356dc897d",
   "metadata": {},
   "outputs": [
    {
     "name": "stdout",
     "output_type": "stream",
     "text": [
      "False True\n"
     ]
    }
   ],
   "source": [
    "print (a,b)"
   ]
  },
  {
   "cell_type": "markdown",
   "id": "f287d98f-f022-4f64-8f75-dbe2a8e800d5",
   "metadata": {},
   "source": [
    "Q.Check if all items in a tuple are True:"
   ]
  },
  {
   "cell_type": "code",
   "execution_count": 73,
   "id": "d9f9d88d-5094-4081-9c1d-fe7b59f42468",
   "metadata": {},
   "outputs": [
    {
     "name": "stdout",
     "output_type": "stream",
     "text": [
      "False True\n"
     ]
    }
   ],
   "source": [
    "x = all((0,True,False))\n",
    "xx = all((True,True))\n",
    "print(x , xx)"
   ]
  },
  {
   "cell_type": "markdown",
   "id": "2d74df3f-412a-49e1-a3c0-018595054682",
   "metadata": {},
   "source": [
    "Q.Check if all items in a dictionary are True:\n"
   ]
  },
  {
   "cell_type": "code",
   "execution_count": 75,
   "id": "64a16084-8c30-457b-99b8-43ebcb903efc",
   "metadata": {},
   "outputs": [
    {
     "name": "stdout",
     "output_type": "stream",
     "text": [
      "False\n"
     ]
    }
   ],
   "source": [
    "mydict = {0 : \"Apple\", 1 : \"Orange\"} \n",
    "x = all(mydict) # When used on a dictionary, the all() function checks if all the keys are true, not the values.\n",
    "print(x)"
   ]
  },
  {
   "cell_type": "markdown",
   "id": "2588a454-a473-4739-bd8b-8a64c9190eb5",
   "metadata": {},
   "source": [
    "# LIST COMPREHENSION"
   ]
  },
  {
   "cell_type": "markdown",
   "id": "27ef3fa9-261b-49d5-9046-3a92eea36004",
   "metadata": {},
   "source": [
    "List comprehension offers a shorter syntax when you want to create a new list based on the values of an existing list."
   ]
  },
  {
   "cell_type": "raw",
   "id": "05a908da-c558-4954-ad91-7eaf859eacfe",
   "metadata": {},
   "source": [
    "Eg :Based on a list of fruits, you want a new list, containing only the fruits with the letter \"a\" in the name.\n",
    "Without list comprehension you will have to write a for statement with a conditional test inside: "
   ]
  },
  {
   "cell_type": "code",
   "execution_count": 78,
   "id": "d67789b9-831a-4bd2-b3b9-5353e470604e",
   "metadata": {},
   "outputs": [
    {
     "name": "stdout",
     "output_type": "stream",
     "text": [
      "['apple', 'banana', 'grapes']\n"
     ]
    }
   ],
   "source": [
    "fruits = ['apple' ,'banana' ,'grapes', 'kiwi']\n",
    "newlist = []\n",
    "\n",
    "for i in fruits:\n",
    "    if \"a\" in i:\n",
    "        newlist.append(i)\n",
    "print(newlist)"
   ]
  },
  {
   "cell_type": "raw",
   "id": "ce9b0937-31c8-46cf-a50f-699f8f9dd65c",
   "metadata": {},
   "source": [
    "With list comprehension you can do all that with only one line of code:"
   ]
  },
  {
   "cell_type": "markdown",
   "id": "d32f07ef-b563-4cb4-b74e-67f84967df3c",
   "metadata": {},
   "source": [
    "SYNTAX : newlist = [expression **for** item **in** iterable **if** condition == True]"
   ]
  },
  {
   "cell_type": "markdown",
   "id": "ff3668e6-852e-4bbe-bef5-f2e3659b9bf0",
   "metadata": {},
   "source": [
    "Q.Only accept items that are not \"apple\":"
   ]
  },
  {
   "cell_type": "code",
   "execution_count": 81,
   "id": "b32f7734-8111-4759-b5c7-dbd0d4a7f4a2",
   "metadata": {},
   "outputs": [
    {
     "name": "stdout",
     "output_type": "stream",
     "text": [
      "['banana', 'grapes', 'kiwi']\n"
     ]
    }
   ],
   "source": [
    "newlist = [x for x in fruits if x != \"apple\"] #The condition is like a filter that only accepts the items that evaluate to True\n",
    "print(newlist)"
   ]
  },
  {
   "cell_type": "markdown",
   "id": "36c99f3e-5093-466a-a8b8-1e1849de9ff0",
   "metadata": {},
   "source": [
    "Q.Accept only numbers lower than 5:"
   ]
  },
  {
   "cell_type": "code",
   "execution_count": 91,
   "id": "f399db24-2eea-40d9-9c02-faf2d9ed3a34",
   "metadata": {},
   "outputs": [
    {
     "name": "stdout",
     "output_type": "stream",
     "text": [
      "[0, 1, 2, 3, 4]\n"
     ]
    }
   ],
   "source": [
    "newlist = [ i for i in range(0,30) if i < 5]\n",
    "print(newlist)"
   ]
  },
  {
   "cell_type": "code",
   "execution_count": 85,
   "id": "ccf2205a-3266-49c2-83c4-48b178b6e156",
   "metadata": {},
   "outputs": [],
   "source": [
    "# The expression can also contain conditions, not like a filter, but as a way to manipulate the outcome\n"
   ]
  },
  {
   "cell_type": "markdown",
   "id": "5896c185-b2d1-4a82-b851-bb5b94f25fea",
   "metadata": {},
   "source": [
    "Q.Return \"orange\" instead of \"banana\":"
   ]
  },
  {
   "cell_type": "code",
   "execution_count": 87,
   "id": "7b30ce7f-6c74-4906-a544-1694fc57e642",
   "metadata": {},
   "outputs": [
    {
     "name": "stdout",
     "output_type": "stream",
     "text": [
      "['apple', 'orange', 'grapes', 'kiwi']\n"
     ]
    }
   ],
   "source": [
    "newlist = [i if i!='banana' else \"orange\" for i in fruits] # Return the item if it is not banana, if it is banana return orange\".\n",
    "print(newlist)"
   ]
  },
  {
   "cell_type": "code",
   "execution_count": 88,
   "id": "73d9e6b1-1663-46d5-9c50-b865ca2c9da7",
   "metadata": {},
   "outputs": [],
   "source": [
    "newlist = ['apple' for i in fruits]"
   ]
  },
  {
   "cell_type": "code",
   "execution_count": 89,
   "id": "be3c2d83-6a77-40a2-ae09-2b46b2121fe7",
   "metadata": {},
   "outputs": [
    {
     "name": "stdout",
     "output_type": "stream",
     "text": [
      "['apple', 'apple', 'apple', 'apple']\n"
     ]
    }
   ],
   "source": [
    "print(newlist)"
   ]
  },
  {
   "cell_type": "markdown",
   "id": "f50a312a-db02-4d38-b612-e04c68b75efc",
   "metadata": {},
   "source": [
    "# ARRAY MODIFICATION\n"
   ]
  },
  {
   "cell_type": "markdown",
   "id": "a656b528-18af-44ff-90fb-477f9963c545",
   "metadata": {
    "editable": true,
    "slideshow": {
     "slide_type": ""
    },
    "tags": []
   },
   "source": [
    "#### insert( array , index, value, axis = none)\n",
    "axis = 0 : row -wise ;\n",
    "axis = 1 : col -wise"
   ]
  },
  {
   "cell_type": "code",
   "execution_count": 3,
   "id": "24abf1a7-653d-4a42-bfc9-d3ad1b98dc9a",
   "metadata": {},
   "outputs": [
    {
     "name": "stdout",
     "output_type": "stream",
     "text": [
      "[0 1 2 3 4 5]\n",
      "[  0   1 100   2   3   4   5]\n"
     ]
    }
   ],
   "source": [
    "import numpy as np\n",
    "\n",
    "arr = np.array(range(0,6))\n",
    "print(arr)\n",
    "new_arr = np.insert(arr, 2, 100, axis =0)\n",
    "print(new_arr)"
   ]
  },
  {
   "cell_type": "code",
   "execution_count": 6,
   "id": "1c945322-8fd2-4f0a-b369-fade36a7aa6c",
   "metadata": {},
   "outputs": [
    {
     "name": "stdout",
     "output_type": "stream",
     "text": [
      "[ 0  1 69  2  3  4  5]\n"
     ]
    }
   ],
   "source": [
    "new_arr = np.insert(arr, 2, 69) \n",
    "print(new_arr)"
   ]
  },
  {
   "cell_type": "markdown",
   "id": "d890240b-3556-44be-8c5b-17c06350426e",
   "metadata": {},
   "source": [
    "#### inset insert in 2d"
   ]
  },
  {
   "cell_type": "code",
   "execution_count": 8,
   "id": "bf3a39fe-0a87-437c-b67c-3ff71fa4b5f3",
   "metadata": {},
   "outputs": [
    {
     "name": "stdout",
     "output_type": "stream",
     "text": [
      "[[1 2]\n",
      " [5 6]\n",
      " [3 4]]\n"
     ]
    }
   ],
   "source": [
    "arr_2d = np.array([[1,2],[3,4]])\n",
    "new_arr_2d = np.insert(arr_2d,1,[5,6],axis = 0)\n",
    "print(new_arr_2d)"
   ]
  },
  {
   "cell_type": "code",
   "execution_count": 12,
   "id": "e56f1ef6-f24d-47cb-95a2-75699d367c5d",
   "metadata": {},
   "outputs": [
    {
     "name": "stdout",
     "output_type": "stream",
     "text": [
      "[[ 1 69  2]\n",
      " [ 5 69  6]\n",
      " [ 3 69  4]]\n"
     ]
    }
   ],
   "source": [
    "other_2d = np .insert(new_arr_2d,1,[69,69,69],axis = 1)\n",
    "print(other_2d)"
   ]
  },
  {
   "cell_type": "code",
   "execution_count": 16,
   "id": "49e25c73-0c7d-4ff3-8ff6-e9f65f26c92e",
   "metadata": {},
   "outputs": [
    {
     "name": "stdout",
     "output_type": "stream",
     "text": [
      "[ 1 11 22 33 44  2  5  6  3  4]\n"
     ]
    }
   ],
   "source": [
    "flat = np.insert(new_arr_2d , 1 ,[11,22,33,44] ,axis = None)\n",
    "print(flat)"
   ]
  },
  {
   "cell_type": "markdown",
   "id": "30772a10-8cc4-48f3-8e2e-a8735e1b7485",
   "metadata": {},
   "source": [
    "#### append = add ele at end"
   ]
  },
  {
   "cell_type": "code",
   "execution_count": 19,
   "id": "1d7e98fd-240b-42dd-8945-3416cc13a75e",
   "metadata": {},
   "outputs": [],
   "source": [
    "arr = np.append(flat,[132,456])"
   ]
  },
  {
   "cell_type": "code",
   "execution_count": 20,
   "id": "4850a6a1-44e8-4883-99e3-54c3145b9e7c",
   "metadata": {},
   "outputs": [
    {
     "name": "stdout",
     "output_type": "stream",
     "text": [
      "[  1  11  22  33  44   2   5   6   3   4 132 456]\n"
     ]
    }
   ],
   "source": [
    "print(arr)"
   ]
  },
  {
   "cell_type": "code",
   "execution_count": 25,
   "id": "ee2ab8f9-f1c6-410e-b3bb-9d98485e0dd8",
   "metadata": {},
   "outputs": [
    {
     "name": "stdout",
     "output_type": "stream",
     "text": [
      "[1 2 5 6 3 4]\n"
     ]
    }
   ],
   "source": [
    "new = new_arr_2d.flatten()\n",
    "print(new)"
   ]
  },
  {
   "cell_type": "markdown",
   "id": "17b2a108-bf6a-41cc-ab33-72486532fb8b",
   "metadata": {},
   "source": [
    "# concatinate 2 arrays STACKING\n",
    "\n",
    "axis = 0 > VERTICAL STACKING  \n",
    "axis = 1 > HORIZONTAL STACKING "
   ]
  },
  {
   "cell_type": "code",
   "execution_count": 32,
   "id": "f0aed1ff-838c-4c07-add0-4c1a3106cd37",
   "metadata": {},
   "outputs": [
    {
     "name": "stdout",
     "output_type": "stream",
     "text": [
      "[ 4  7 10]\n",
      "[1 2 4 3 5 6]\n"
     ]
    }
   ],
   "source": [
    "arr1 = np.array([1,2,4])\n",
    "arr2 = np.array([3,5,6])\n",
    "myarr = arr1+arr2\n",
    "conc = np.concatenate((arr1,arr2))\n",
    "print(myarr)\n",
    "print(conc)"
   ]
  },
  {
   "cell_type": "code",
   "execution_count": 36,
   "id": "88580a94-0a7e-4c11-a20b-13900ed1a956",
   "metadata": {},
   "outputs": [
    {
     "name": "stdout",
     "output_type": "stream",
     "text": [
      "[ 1  2  4 11 22 33 44]\n"
     ]
    }
   ],
   "source": [
    "arr3= np.array([11,22,33,44])\n",
    "conc2 = np.concatenate((arr1,arr3))\n",
    "print(conc2)"
   ]
  },
  {
   "cell_type": "markdown",
   "id": "2f55108d-8270-495f-8b96-466f0efe3f92",
   "metadata": {},
   "source": [
    "#### delete()\n",
    "\n",
    "syntax = np.delete(Array , indexm axis=none)"
   ]
  },
  {
   "cell_type": "code",
   "execution_count": 37,
   "id": "f8d221a5-c173-40b9-97da-09849bf73427",
   "metadata": {},
   "outputs": [],
   "source": [
    "arr = np.array(range(10,60,10))"
   ]
  },
  {
   "cell_type": "code",
   "execution_count": 38,
   "id": "77ee1e6c-2eb9-4fc2-94ab-cd6c3f583ccb",
   "metadata": {},
   "outputs": [
    {
     "name": "stdout",
     "output_type": "stream",
     "text": [
      "[10 20 30 40 50]\n",
      "[20 30 40 50]\n"
     ]
    }
   ],
   "source": [
    "print(arr)\n",
    "new = np.delete (arr,0)\n",
    "print(new)"
   ]
  },
  {
   "cell_type": "code",
   "execution_count": 52,
   "id": "c8ac4d2f-6ac6-4dcf-b186-712362cf3227",
   "metadata": {},
   "outputs": [
    {
     "name": "stdout",
     "output_type": "stream",
     "text": [
      "[[1 2]\n",
      " [3 4]]\n",
      "[[ 2]\n",
      " [ 4]\n",
      " [22]]\n"
     ]
    }
   ],
   "source": [
    "arr2d = np.array([[1,2],[3,4],[11,22]])\n",
    "x = np.delete(arr2d,2,axis =0)\n",
    "y= np.delete(arr2d,0,axis =1)\n",
    "print(x)\n",
    "print(y)"
   ]
  },
  {
   "cell_type": "markdown",
   "id": "a3f56de2-5a80-45c7-a079-62c25ea3d464",
   "metadata": {
    "editable": true,
    "slideshow": {
     "slide_type": ""
    },
    "tags": []
   },
   "source": [
    "#### vertical and horizontal stacking\n",
    "\n",
    "vstack() row wise ;\n",
    "hstack() col wise"
   ]
  },
  {
   "cell_type": "code",
   "execution_count": 69,
   "id": "f943543a-68fc-452b-8c09-f7cd40352dfa",
   "metadata": {},
   "outputs": [
    {
     "name": "stdout",
     "output_type": "stream",
     "text": [
      "vert stacking :\n",
      " [[11 22 33 44 55 66]\n",
      " [ 1  2  3  4  5 66]]\n",
      "hor stacking : [11 22 33 44 55 66  1  2  3  4  5 66]\n"
     ]
    }
   ],
   "source": [
    "arr1 = np.array([11,22,33,44,55,66])\n",
    "arr2 = np.array([1,2,3,4,5,66])\n",
    "\n",
    "\n",
    "print(\"vert stacking :\\n\",np.vstack((arr1,arr2)))\n",
    "print(\"hor stacking :\",np.hstack((arr1,arr2)))\n"
   ]
  },
  {
   "cell_type": "markdown",
   "id": "fe4cb194-db88-4f8a-876d-3098102f1312",
   "metadata": {
    "editable": true,
    "slideshow": {
     "slide_type": ""
    },
    "tags": []
   },
   "source": [
    "#### vertical and horizontal splitting\n",
    "vsplit() row wise ; hsplit() col wise"
   ]
  },
  {
   "cell_type": "code",
   "execution_count": 70,
   "id": "29218bc9-28ef-49ef-8386-4f6bd6eda6ac",
   "metadata": {},
   "outputs": [
    {
     "name": "stdout",
     "output_type": "stream",
     "text": [
      "[array([11, 22, 33]), array([44, 55, 66])]\n"
     ]
    }
   ],
   "source": [
    "print(np.split(arr1,2))"
   ]
  },
  {
   "cell_type": "markdown",
   "id": "7d78c6a6-bd47-44e1-9290-95d422e2ad6a",
   "metadata": {},
   "source": [
    "# zip() function"
   ]
  },
  {
   "cell_type": "raw",
   "id": "42e1aa8c-b9ee-4327-bf47-f5f7c7c37989",
   "metadata": {},
   "source": [
    "The built-in Python function zip() is used to combine multiple iterables (like lists or tuples) element-wise into pairs or groups, creating an iterator of tuples."
   ]
  }
 ],
 "metadata": {
  "kernelspec": {
   "display_name": "Python 3 (ipykernel)",
   "language": "python",
   "name": "python3"
  },
  "language_info": {
   "codemirror_mode": {
    "name": "ipython",
    "version": 3
   },
   "file_extension": ".py",
   "mimetype": "text/x-python",
   "name": "python",
   "nbconvert_exporter": "python",
   "pygments_lexer": "ipython3",
   "version": "3.12.7"
  }
 },
 "nbformat": 4,
 "nbformat_minor": 5
}
