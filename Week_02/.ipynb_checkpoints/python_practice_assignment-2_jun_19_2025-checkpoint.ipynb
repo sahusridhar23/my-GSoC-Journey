{
 "cells": [
  {
   "cell_type": "markdown",
   "id": "7c9aac06-b33d-45fe-b5d3-596eca0e4083",
   "metadata": {},
   "source": [
    "1.Write a Python program to find the sum of squares of even numbers in a list using a for loop \n",
    "and if condition. "
   ]
  },
  {
   "cell_type": "code",
   "execution_count": 1,
   "id": "69d8291f-c116-4788-90c8-61bad9f1897c",
   "metadata": {},
   "outputs": [],
   "source": [
    "mylist = list(range(0,11))"
   ]
  },
  {
   "cell_type": "code",
   "execution_count": 2,
   "id": "f045a07b-de71-419b-a50d-12b83cba4937",
   "metadata": {},
   "outputs": [
    {
     "name": "stdout",
     "output_type": "stream",
     "text": [
      "[0, 1, 2, 3, 4, 5, 6, 7, 8, 9, 10]\n"
     ]
    }
   ],
   "source": [
    "print(mylist)"
   ]
  },
  {
   "cell_type": "code",
   "execution_count": 3,
   "id": "df50d3f1-12b2-40e3-b40a-5448fdc34869",
   "metadata": {},
   "outputs": [
    {
     "name": "stdout",
     "output_type": "stream",
     "text": [
      "sum of all the even squares is 220\n"
     ]
    }
   ],
   "source": [
    "s=0\n",
    "for i in mylist:\n",
    "    if( i%2 == 0):\n",
    "        s += i**2\n",
    "print(\"sum of all the even squares is\" , s)\n",
    "        "
   ]
  },
  {
   "cell_type": "markdown",
   "id": "0d469d77-701b-4fa9-bb00-ed8524e5a9fd",
   "metadata": {},
   "source": [
    "---"
   ]
  },
  {
   "cell_type": "markdown",
   "id": "989d8919-ed2a-4ecd-ada9-67da33d23984",
   "metadata": {},
   "source": [
    "2.Define a function get_grade(score) that returns a grade: "
   ]
  },
  {
   "cell_type": "code",
   "execution_count": 15,
   "id": "8613bc89-3b34-42b8-8492-18e27d43271c",
   "metadata": {},
   "outputs": [],
   "source": [
    "def get_grade(score):\n",
    "    if score>90:\n",
    "        print(\"grade is A\")\n",
    "    elif score>=80 and score<90:\n",
    "        print(\"grade is B\")\n",
    "    elif score>=70 and score<80:\n",
    "        print(\"grade is C\")\n",
    "    elif score>=60 and score<70:\n",
    "        print(\"grade is D\")\n",
    "    else :\n",
    "        print(\"grade is F\")"
   ]
  },
  {
   "cell_type": "code",
   "execution_count": 16,
   "id": "8e0e5e6e-f4a3-4acc-b251-71ec0cf3dfd5",
   "metadata": {},
   "outputs": [
    {
     "name": "stdin",
     "output_type": "stream",
     "text": [
      "Enter your score  99\n"
     ]
    },
    {
     "name": "stdout",
     "output_type": "stream",
     "text": [
      "grade is A\n"
     ]
    }
   ],
   "source": [
    "score = int(input(\"Enter your score \"))\n",
    "get_grade(score)"
   ]
  },
  {
   "cell_type": "markdown",
   "id": "3696b40d-de86-4f6f-851e-905a8697d727",
   "metadata": {},
   "source": [
    "---\n"
   ]
  },
  {
   "cell_type": "markdown",
   "id": "3db134e5-33fe-430a-8ce6-929915d19159",
   "metadata": {},
   "source": [
    "Problem 4: \n",
    "Write a Python program to convert a list of temperatures from Celsius to Fahrenheit using the \n",
    "formula.Use map() and a lambda function. "
   ]
  },
  {
   "cell_type": "code",
   "execution_count": 33,
   "id": "0a344f6e-0f27-4221-aa86-c3cbe13f5dfd",
   "metadata": {},
   "outputs": [],
   "source": [
    "c = [38,39,40,41,0]\n",
    "f  = list(map(lambda a: (a*9/5)+32 , c))"
   ]
  },
  {
   "cell_type": "code",
   "execution_count": 36,
   "id": "51e4cca0-c205-4342-a484-381fff1ec48c",
   "metadata": {},
   "outputs": [
    {
     "name": "stdout",
     "output_type": "stream",
     "text": [
      "[100.4, 102.2, 104.0, 105.8, 32.0]\n"
     ]
    }
   ],
   "source": [
    "print(f)"
   ]
  },
  {
   "cell_type": "markdown",
   "id": "6855bc6f-ced0-4915-9fb3-05a94d92bec5",
   "metadata": {},
   "source": [
    "---"
   ]
  },
  {
   "cell_type": "markdown",
   "id": "81896a62-b2f5-49a7-8255-4d4f3c28c8a2",
   "metadata": {},
   "source": [
    "Problem 3: \n",
    "Write a program to extract all prime numbers from a given list using filter() and a lambda \n",
    "function. "
   ]
  },
  {
   "cell_type": "code",
   "execution_count": 48,
   "id": "42e06bb8-c3c6-4d41-ab37-a0f2410ce51e",
   "metadata": {},
   "outputs": [
    {
     "name": "stdout",
     "output_type": "stream",
     "text": [
      "[0, 1, 2, 3, 4, 5, 6, 7, 8, 9, 10, 11, 12, 13, 14, 15, 16, 17, 18, 19, 20, 21, 22, 23, 24, 25, 26, 27, 28, 29, 30, 31, 32, 33, 34, 35, 36, 37, 38, 39, 40, 41, 42, 43, 44, 45, 46, 47, 48, 49]\n"
     ]
    }
   ],
   "source": [
    "givenlist = list(range(0,50))\n",
    "print(givenlist)"
   ]
  },
  {
   "cell_type": "code",
   "execution_count": 80,
   "id": "4dbadac6-f97b-4575-a40e-1a8fcf7d3f5f",
   "metadata": {},
   "outputs": [],
   "source": [
    "def prime(n):\n",
    "    fac =0 \n",
    "    for i in range(1,n+1):\n",
    "        if n%i==0:\n",
    "            fac += 1\n",
    "    if fac == 2:\n",
    "        return n"
   ]
  },
  {
   "cell_type": "code",
   "execution_count": 81,
   "id": "68cb7ae6-f7bf-46fd-85f4-c35f8ace7c93",
   "metadata": {},
   "outputs": [
    {
     "name": "stdout",
     "output_type": "stream",
     "text": [
      "[2, 3, 5, 7, 11, 13, 17, 19, 23, 29, 31, 37, 41, 43, 47]\n"
     ]
    }
   ],
   "source": [
    "primelist= list(filter(lambda a: prime(a),givenlist))\n",
    "print(primelist)"
   ]
  },
  {
   "cell_type": "code",
   "execution_count": 82,
   "id": "05a4ca43-b9ba-4e80-98a4-7bc706c3e261",
   "metadata": {},
   "outputs": [
    {
     "data": {
      "text/plain": [
       "15"
      ]
     },
     "execution_count": 82,
     "metadata": {},
     "output_type": "execute_result"
    }
   ],
   "source": [
    "len(primelist)"
   ]
  },
  {
   "cell_type": "markdown",
   "id": "c490f053-178d-4d43-ba42-79c147115cc0",
   "metadata": {},
   "source": [
    "---"
   ]
  },
  {
   "cell_type": "markdown",
   "id": "61b881fc-01c2-4898-ab17-5b4d8bb51d78",
   "metadata": {},
   "source": [
    "Q.Problem 5: \n",
    "Write a program that takes a string and returns a list of all non-vowel characters using list \n",
    "comprehension"
   ]
  },
  {
   "cell_type": "code",
   "execution_count": 92,
   "id": "d42c673d-5264-4001-b1a1-10db1fbc7c78",
   "metadata": {},
   "outputs": [
    {
     "name": "stdin",
     "output_type": "stream",
     "text": [
      "enter the word aeiouxyz\n"
     ]
    },
    {
     "name": "stdout",
     "output_type": "stream",
     "text": [
      "['x', 'y', 'z']\n"
     ]
    }
   ],
   "source": [
    "word = input(\"enter the word\")\n",
    "non_vow = [i for i in word.lower() if i not in ['a','e','i','o','u']]\n",
    "print(non_vow)"
   ]
  },
  {
   "cell_type": "markdown",
   "id": "057ed5f4-11ec-411e-a2bc-6c6d8b382dca",
   "metadata": {},
   "source": [
    "---"
   ]
  },
  {
   "cell_type": "markdown",
   "id": "1a8260c2-c0bd-4b63-a39d-eb0ff163ddaa",
   "metadata": {},
   "source": [
    "Problem 6: \n",
    "Write a function that accepts a sentence and returns a list of word lengths using map(). "
   ]
  },
  {
   "cell_type": "code",
   "execution_count": 108,
   "id": "844e7c34-747a-4666-90ce-1bccf7d67019",
   "metadata": {},
   "outputs": [
    {
     "name": "stdin",
     "output_type": "stream",
     "text": [
      "Enter a sentence hello bot how are you \n"
     ]
    },
    {
     "name": "stdout",
     "output_type": "stream",
     "text": [
      "[5, 3, 3, 3, 3]\n"
     ]
    }
   ],
   "source": [
    "def word_len(sentence):\n",
    "    return list(map(len,sentence.split()))\n",
    "\n",
    "sentence=input(\"Enter a sentence\")\n",
    "print(word_len(sentence))"
   ]
  },
  {
   "cell_type": "markdown",
   "id": "cbcecd87-f1eb-4e19-93ca-391aa3fbbbd4",
   "metadata": {},
   "source": [
    "---"
   ]
  },
  {
   "cell_type": "markdown",
   "id": "6a28525d-c682-41a4-bc18-04cfbb0e9677",
   "metadata": {},
   "source": [
    "Problem 7: \n",
    "From a list of strings, filter only the palindromes using filter() and lambda. "
   ]
  },
  {
   "cell_type": "code",
   "execution_count": 116,
   "id": "6bc901ad-381f-4077-be6a-5b0b6647b9ef",
   "metadata": {},
   "outputs": [
    {
     "name": "stdout",
     "output_type": "stream",
     "text": [
      "['wow', 'mom', 'madam']\n"
     ]
    }
   ],
   "source": [
    "strlist = ['wow' , 'mom' , 'bot' , 'madam' , 'willow']\n",
    "pallindrome = list(filter(lambda a : a == a[-1::-1], strlist))\n",
    "print(pallindrome)"
   ]
  },
  {
   "cell_type": "markdown",
   "id": "814fa576-eabd-498b-9dcb-92f4373e23b9",
   "metadata": {},
   "source": [
    "---"
   ]
  },
  {
   "cell_type": "markdown",
   "id": "f3467ef9-bd1b-4a04-8790-4e91e64b478e",
   "metadata": {},
   "source": [
    "Problem 8: \n",
    "Write a list comprehension to return the square of all odd numbers from a list"
   ]
  },
  {
   "cell_type": "code",
   "execution_count": 117,
   "id": "41befe06-35e1-46de-a974-fefc50d5e29b",
   "metadata": {},
   "outputs": [
    {
     "name": "stdout",
     "output_type": "stream",
     "text": [
      "[1, 3, 5, 7, 9, 11, 13, 15, 17, 19, 21, 23, 25, 27, 29, 31, 33, 35, 37, 39, 41, 43, 45]\n"
     ]
    }
   ],
   "source": [
    "numlist = list(range(0,46))\n",
    "oddlist = [i for i in numlist if i%2 != 0]\n",
    "print(oddlist)"
   ]
  },
  {
   "cell_type": "markdown",
   "id": "df37bbf9-2896-436a-aa1d-2dc75bf4f9c7",
   "metadata": {},
   "source": [
    "---"
   ]
  },
  {
   "cell_type": "markdown",
   "id": "b4b255dd-3796-4827-bd83-1b31fe65448f",
   "metadata": {},
   "source": [
    "Problem 9: \n",
    "Create a function calculate(a, b, op) that performs: "
   ]
  },
  {
   "cell_type": "code",
   "execution_count": 123,
   "id": "1ca77e7d-9064-48cc-869f-ce04ae6362ef",
   "metadata": {},
   "outputs": [
    {
     "name": "stdin",
     "output_type": "stream",
     "text": [
      "Enter 1st number 6\n",
      "Enter 2nd number 9\n",
      "Enter operation -\n"
     ]
    },
    {
     "name": "stdout",
     "output_type": "stream",
     "text": [
      "Difference =  -3\n"
     ]
    }
   ],
   "source": [
    "a = int(input(\"Enter 1st number\"))\n",
    "b = int(input(\"Enter 2nd number\"))\n",
    "op = input(\"Enter operation\")\n",
    "\n",
    "def calc(a,b,op):\n",
    "    if op == '+' :\n",
    "        print(\"sum is = \" ,a+b)\n",
    "    elif op == '-' :\n",
    "         print(\"Difference = \",a-b)\n",
    "    elif op == '*' :\n",
    "        print(\"product = \",a*b)\n",
    "    elif op == '/' :\n",
    "         print(\"a / b  is \" ,a/b)\n",
    "    else :\n",
    "        print(\"INVALID INPUT\")\n",
    "\n",
    "res = calc(a,b,op)"
   ]
  },
  {
   "cell_type": "markdown",
   "id": "61e5960a-35c0-4d72-91e2-85ad92de2571",
   "metadata": {},
   "source": [
    "---"
   ]
  },
  {
   "cell_type": "markdown",
   "id": "6a616329-7b3f-41c2-b583-3a1fc15d5e88",
   "metadata": {},
   "source": [
    "Problem 10 : Given a list with duplicate elements, write a program to remove duplicates and return a sorted \n",
    "list of squares of the unique elements using list comprehension. "
   ]
  },
  {
   "cell_type": "code",
   "execution_count": 154,
   "id": "4c8fd46f-bab4-459d-b22c-4690b4b17bb8",
   "metadata": {},
   "outputs": [
    {
     "name": "stdout",
     "output_type": "stream",
     "text": [
      "[1, 4, 9, 16]\n"
     ]
    }
   ],
   "source": [
    "given = [4, 2, 2, 3, 4, 1] \n",
    "orig = [i**2 for i in set(given)]\n",
    "orig.sort()\n",
    "print(orig)"
   ]
  },
  {
   "cell_type": "code",
   "execution_count": null,
   "id": "28a5d236-70ac-413a-9949-711693564f08",
   "metadata": {},
   "outputs": [],
   "source": []
  }
 ],
 "metadata": {
  "kernelspec": {
   "display_name": "Python 3 (ipykernel)",
   "language": "python",
   "name": "python3"
  },
  "language_info": {
   "codemirror_mode": {
    "name": "ipython",
    "version": 3
   },
   "file_extension": ".py",
   "mimetype": "text/x-python",
   "name": "python",
   "nbconvert_exporter": "python",
   "pygments_lexer": "ipython3",
   "version": "3.12.7"
  }
 },
 "nbformat": 4,
 "nbformat_minor": 5
}
